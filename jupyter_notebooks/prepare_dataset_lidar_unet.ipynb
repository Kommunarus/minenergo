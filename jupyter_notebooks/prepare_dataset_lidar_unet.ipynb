{
 "cells": [
  {
   "cell_type": "code",
   "execution_count": null,
   "id": "d12d4730",
   "metadata": {},
   "outputs": [],
   "source": [
    "import json\n",
    "from tqdm import tqdm\n",
    "import time\n",
    "import os\n",
    "import sys\n",
    "import matplotlib.pyplot as plt\n",
    "\n",
    "import cv2\n",
    "import numpy as np\n",
    "import pandas as pd\n",
    "\n",
    "import laspy"
   ]
  },
  {
   "cell_type": "code",
   "execution_count": null,
   "id": "8edd7283",
   "metadata": {},
   "outputs": [],
   "source": [
    "import warnings\n",
    "warnings.filterwarnings('ignore')"
   ]
  },
  {
   "cell_type": "code",
   "execution_count": null,
   "id": "4cac653b",
   "metadata": {},
   "outputs": [],
   "source": [
    "from plotly.offline import init_notebook_mode\n",
    "from plotly.offline import iplot\n",
    "from plotly.offline import plot\n",
    "from plotly import graph_objs as go\n",
    "from plotly.io import write_html\n",
    "init_notebook_mode()\n",
    "\n",
    "\n",
    "def make_graph_2d(x, y, color):\n",
    "    graph = go.Scatter({\n",
    "        \"x\": x,\n",
    "        \"y\": y,\n",
    "        \"mode\": \"markers\",\n",
    "        \"marker\": {\n",
    "            \"size\": 1,\n",
    "            \"color\": color,\n",
    "        },\n",
    "    })\n",
    "    return graph\n",
    "\n",
    "def make_graph_3d(x, y, z, color):\n",
    "    graph = go.Scatter3d({\n",
    "        \"x\": x,\n",
    "        \"y\": y,\n",
    "        \"z\": z,\n",
    "        \"mode\": \"markers\",\n",
    "        \"marker\": {\n",
    "            \"size\": 1,\n",
    "            \"color\": color,\n",
    "        },\n",
    "    })\n",
    "    return graph\n",
    "\n",
    "def make_vector_3d(xyz, color, name=''):\n",
    "    x,y,z = xyz\n",
    "    graph = go.Scatter3d({\n",
    "        \"x\": [0,x],\n",
    "        \"y\": [0,y],\n",
    "        \"z\": [0,z],\n",
    "        \"mode\": \"lines\",\n",
    "        \"line\": {\n",
    "            \"color\": color,\n",
    "        },\n",
    "        'name':name\n",
    "    })\n",
    "    return graph\n",
    "\n",
    "def _make_fig(graphs, height=None):\n",
    "    scene_axis = {\n",
    "        \"showticklabels\": False,\n",
    "        \"showgrid\": False,\n",
    "        \"zeroline\": False,\n",
    "        \"showline\": True,\n",
    "        \"linewidth\": 1.5,\n",
    "        \"linecolor\":\"#555\",\n",
    "        \"mirror\": True,\n",
    "        \"title_text\": \"\",\n",
    "    }\n",
    "    \n",
    "    params = {\n",
    "        \"scene\": {\n",
    "            \"domain\": {\"x\": [0.0, 1.0], \"y\": [0.25, 1.0]},\n",
    "            \"aspectmode\": \"data\",\n",
    "            \"xaxis\": scene_axis,\n",
    "            \"yaxis\": scene_axis,\n",
    "            \"zaxis\": scene_axis,\n",
    "        },\n",
    "        \"paper_bgcolor\": \"#222\",\n",
    "        \"plot_bgcolor\": \"#222\",\n",
    "    }\n",
    "    if height is not None:\n",
    "        params['height'] = height\n",
    "\n",
    "    fig_layout = go.Layout(params)\n",
    "\n",
    "\n",
    "    fig = go.Figure({\n",
    "        \"data\": graphs,\n",
    "        \"layout\": fig_layout,\n",
    "    })\n",
    "    return fig\n",
    "\n",
    "def show_graphs(graphs, height=800):\n",
    "    fig = _make_fig(graphs, height=height)\n",
    "\n",
    "    iplot(fig)\n",
    "\n",
    "def write_html_graphs(graphs, name):\n",
    "    fig = _make_fig(graphs)\n",
    "\n",
    "    write_html(fig, name)"
   ]
  },
  {
   "cell_type": "code",
   "execution_count": null,
   "id": "ef7ed9a3",
   "metadata": {},
   "outputs": [],
   "source": []
  },
  {
   "cell_type": "markdown",
   "id": "c873cded",
   "metadata": {},
   "source": [
    "# Load dataset\n",
    "\n",
    "We need to find 1x1km of switzerland chunks with rich landscape.\n",
    "\n",
    "[Lidar data download](https://www.swisstopo.admin.ch/en/geodata/height/surface3d.html#download)\n",
    "\n",
    "[Aero photos download]()"
   ]
  },
  {
   "cell_type": "code",
   "execution_count": null,
   "id": "57771f69",
   "metadata": {},
   "outputs": [],
   "source": [
    "base_dir = '/home/safic2/A_WORK_PROJECTS/F_MY_PROJECTS/DIGITAL_BREAKTHROUGH_2021/mks_final_minenergo/RES/swiss_lidar_and_surface'\n",
    "\n",
    "os.path.exists(base_dir)"
   ]
  },
  {
   "cell_type": "markdown",
   "id": "cd709125",
   "metadata": {},
   "source": [
    "# Load lidar data"
   ]
  },
  {
   "cell_type": "code",
   "execution_count": null,
   "id": "d1bb97cd",
   "metadata": {},
   "outputs": [],
   "source": [
    "ds = pd.read_csv(f'{base_dir}/lidar_data.csv', names=['url'])\n",
    "ds"
   ]
  },
  {
   "cell_type": "code",
   "execution_count": null,
   "id": "b81c4d3b",
   "metadata": {},
   "outputs": [],
   "source": [
    "for _, row in tqdm(ds.iterrows()):\n",
    "    url = row['url']\n",
    "    os.system(f'wget {url}')"
   ]
  },
  {
   "cell_type": "code",
   "execution_count": null,
   "id": "c5cedb8a",
   "metadata": {},
   "outputs": [],
   "source": [
    "lidar_zip_dir = f'{base_dir}/src/lidar_zip'\n",
    "\n",
    "if not os.path.exists(lidar_zip_dir):\n",
    "    os.makedirs(lidar_zip_dir)"
   ]
  },
  {
   "cell_type": "code",
   "execution_count": null,
   "id": "8bdd2517",
   "metadata": {},
   "outputs": [],
   "source": [
    "for file in os.listdir('.'):\n",
    "    if file.startswith('swisssurface3d'):\n",
    "        os.system(f'mv {file} {lidar_zip_dir}')"
   ]
  },
  {
   "cell_type": "code",
   "execution_count": null,
   "id": "8749ce94",
   "metadata": {},
   "outputs": [],
   "source": [
    "for file in os.listdir(lidar_zip_dir):\n",
    "    os.system(f'unzip {lidar_zip_dir}/{file}')"
   ]
  },
  {
   "cell_type": "code",
   "execution_count": null,
   "id": "6268d9a9",
   "metadata": {},
   "outputs": [],
   "source": [
    "lidar_dir = f'{base_dir}/src/lidar'\n",
    "\n",
    "if not os.path.exists(lidar_dir):\n",
    "    os.makedirs(lidar_dir)"
   ]
  },
  {
   "cell_type": "code",
   "execution_count": null,
   "id": "4b471cc0",
   "metadata": {},
   "outputs": [],
   "source": [
    "for file in os.listdir('.'):\n",
    "    if file.endswith('.las'):\n",
    "        os.system(f'mv {file} {lidar_dir}')"
   ]
  },
  {
   "cell_type": "markdown",
   "id": "f93dba3f",
   "metadata": {},
   "source": [
    "# Load image data"
   ]
  },
  {
   "cell_type": "code",
   "execution_count": null,
   "id": "f903d952",
   "metadata": {},
   "outputs": [],
   "source": [
    "ds = pd.read_csv(f'{base_dir}/image_data.csv', names=['url'])\n",
    "ds"
   ]
  },
  {
   "cell_type": "code",
   "execution_count": null,
   "id": "4a02668b",
   "metadata": {},
   "outputs": [],
   "source": [
    "for _, row in tqdm(ds.iterrows()):\n",
    "    url = row['url']\n",
    "    os.system(f'wget {url}')"
   ]
  },
  {
   "cell_type": "code",
   "execution_count": null,
   "id": "549e27ef",
   "metadata": {},
   "outputs": [],
   "source": [
    "image_dir = f'{base_dir}/src/image'\n",
    "\n",
    "if not os.path.exists(image_dir):\n",
    "    os.makedirs(image_dir)"
   ]
  },
  {
   "cell_type": "code",
   "execution_count": null,
   "id": "4fbe8f7a",
   "metadata": {},
   "outputs": [],
   "source": [
    "for file in os.listdir('.'):\n",
    "    if file.startswith('swissimage'):\n",
    "        os.system(f'mv {file} {image_dir}')"
   ]
  },
  {
   "cell_type": "code",
   "execution_count": null,
   "id": "52bdc65a",
   "metadata": {},
   "outputs": [],
   "source": []
  },
  {
   "cell_type": "markdown",
   "id": "2bc8b592",
   "metadata": {},
   "source": [
    "## List lidar files"
   ]
  },
  {
   "cell_type": "code",
   "execution_count": null,
   "id": "003a414f",
   "metadata": {},
   "outputs": [],
   "source": [
    "lidar_dir = f'{base_dir}/src/lidar'\n",
    "\n",
    "os.path.exists(base_dir)"
   ]
  },
  {
   "cell_type": "code",
   "execution_count": null,
   "id": "184f62e9",
   "metadata": {},
   "outputs": [],
   "source": [
    "lidar_file_names = os.listdir(lidar_dir)\n",
    "\n",
    "print(lidar_file_names)"
   ]
  },
  {
   "cell_type": "markdown",
   "id": "0866b215",
   "metadata": {},
   "source": [
    "## List image files"
   ]
  },
  {
   "cell_type": "code",
   "execution_count": null,
   "id": "a7de6e09",
   "metadata": {},
   "outputs": [],
   "source": [
    "image_dir = f'{base_dir}/src/image'\n",
    "\n",
    "os.path.exists(base_dir)"
   ]
  },
  {
   "cell_type": "code",
   "execution_count": null,
   "id": "04999df7",
   "metadata": {},
   "outputs": [],
   "source": [
    "image_file_names = os.listdir(image_dir)\n",
    "\n",
    "print(image_file_names)"
   ]
  },
  {
   "cell_type": "code",
   "execution_count": null,
   "id": "044b90b5",
   "metadata": {},
   "outputs": [],
   "source": []
  },
  {
   "cell_type": "markdown",
   "id": "3a72ef71",
   "metadata": {},
   "source": [
    "# Debug lidar algorithms"
   ]
  },
  {
   "cell_type": "markdown",
   "id": "6c34cd85",
   "metadata": {},
   "source": [
    "## Load data"
   ]
  },
  {
   "cell_type": "code",
   "execution_count": null,
   "id": "a0195ea3",
   "metadata": {},
   "outputs": [],
   "source": [
    "# file = '/home/safic2/A_WORK_PROJECTS/F_MY_PROJECTS/DIGITAL_BREAKTHROUGH_2021/mks_final_minenergo/RES/swiss_lidar_and_surface/old_src/lidar/2544_1183.las'\n",
    "file = f'{lidar_dir}/{lidar_file_names[-1]}'\n",
    "\n",
    "with laspy.open(file) as inf:\n",
    "    for points in inf.chunk_iterator(10**10):        \n",
    "        x = points.x.copy()\n",
    "        y = points.y.copy()\n",
    "        z = points.z.copy()\n",
    "        c = points.classification.copy()"
   ]
  },
  {
   "cell_type": "code",
   "execution_count": null,
   "id": "626e1017",
   "metadata": {},
   "outputs": [],
   "source": [
    "arr = np.stack([x,y,z,c], axis=1)\n",
    "\n",
    "ds = pd.DataFrame(arr, columns=['x','y','z','class'])\n",
    "ds"
   ]
  },
  {
   "cell_type": "code",
   "execution_count": null,
   "id": "a76045a7",
   "metadata": {},
   "outputs": [],
   "source": [
    "ds['x'] -= np.min(ds['x'])\n",
    "ds['y'] -= np.min(ds['y'])\n",
    "ds['z'] -= np.min(ds['z'])\n",
    "\n",
    "print(np.min(ds['x']), np.max(ds['x']))\n",
    "print(np.min(ds['y']), np.max(ds['y']))\n",
    "print(np.min(ds['z']), np.max(ds['z']))"
   ]
  },
  {
   "cell_type": "code",
   "execution_count": null,
   "id": "cbf70887",
   "metadata": {},
   "outputs": [],
   "source": [
    "def get_crop(ix, iy):\n",
    "    return ds[ds['x'] > 100*ix]\\\n",
    "            [ds['x'] < 100*(ix+1)]\\\n",
    "            [ds['y'] > 100*iy]\\\n",
    "            [ds['y'] < 100*(iy+1)]"
   ]
  },
  {
   "cell_type": "code",
   "execution_count": null,
   "id": "cbde6b1a",
   "metadata": {},
   "outputs": [],
   "source": [
    "ds_crop = get_crop(2,1)\n",
    "\n",
    "veg = ds_crop[ds_crop['class'] == 3]\n",
    "not_veg = ds_crop[ds_crop['class'] != 3]\n",
    "\n",
    "show_graphs([\n",
    "    make_graph_3d(veg['x'], veg['y'], veg['z'], 'green'),\n",
    "    make_graph_3d(not_veg['x'], not_veg['y'], not_veg['z'], 'brown')\n",
    "], height=400)"
   ]
  },
  {
   "cell_type": "code",
   "execution_count": null,
   "id": "1ac52b66",
   "metadata": {},
   "outputs": [],
   "source": []
  },
  {
   "cell_type": "markdown",
   "id": "498f354f",
   "metadata": {},
   "source": [
    "## Ground mask"
   ]
  },
  {
   "cell_type": "code",
   "execution_count": null,
   "id": "b18288fd",
   "metadata": {},
   "outputs": [],
   "source": [
    "def get_ground_mask(ds, is_imshow=False):\n",
    "    points_per_km = 1000\n",
    "    points_per_m = points_per_km / 1000\n",
    "\n",
    "    not_veg = ds[ds['class'] != 3]\n",
    "    x = (not_veg['x'] * points_per_m).astype(np.int)\n",
    "    y = (not_veg['y'] * points_per_m).astype(np.int)\n",
    "    z = not_veg['z']\n",
    "\n",
    "    z_sums = np.histogram2d(\n",
    "        y, x, \n",
    "        weights=z,\n",
    "        bins=(1000, 1000), \n",
    "        range=[[0, 1000], [0, 1000]],\n",
    "        normed=False,\n",
    "    )[0]\n",
    "\n",
    "    pt_counts = np.histogram2d(\n",
    "        y, x, \n",
    "        bins=(1000, 1000), \n",
    "        range=[[0, 1000], [0, 1000]],\n",
    "    )[0]\n",
    "\n",
    "    # ~~~~~~~~~~~~~~~~~~~~~~~~~~~~~~~~~~~~~~~~~~~~~~~~\n",
    "    nonveg_z = np.zeros((points_per_km,points_per_km))\n",
    "\n",
    "    m = pt_counts > 0.\n",
    "    nonveg_z[m] = z_sums[m] / pt_counts[m]\n",
    "\n",
    "    if is_imshow:\n",
    "        plt.figure(figsize=(20,10))\n",
    "        plt.imshow(nonveg_z)\n",
    "        plt.colorbar()\n",
    "        plt.show()\n",
    "        \n",
    "    return nonveg_z\n",
    "\n",
    "nonveg_z = get_ground_mask(ds, is_imshow=True)"
   ]
  },
  {
   "cell_type": "code",
   "execution_count": null,
   "id": "8a1c387d",
   "metadata": {},
   "outputs": [],
   "source": []
  },
  {
   "cell_type": "markdown",
   "id": "04295f22",
   "metadata": {},
   "source": [
    "## Filter speckles in ground mask"
   ]
  },
  {
   "cell_type": "code",
   "execution_count": null,
   "id": "48af7df2",
   "metadata": {},
   "outputs": [],
   "source": [
    "def filter_speckles_in_ground_mask(nonveg_z, is_imshow=False):\n",
    "    non_zero_mask = (nonveg_z != 0.).astype(np.uint8)\n",
    "\n",
    "    ksize = 11\n",
    "\n",
    "    nonzero_neighbours_num = cv2.boxFilter(non_zero_mask, -1, (ksize,ksize), normalize=False)\n",
    "    neighbours_sum = cv2.boxFilter(nonveg_z, -1, (ksize,ksize), normalize=False)\n",
    "\n",
    "    nonzero_neighbours_avg = neighbours_sum / nonzero_neighbours_num\n",
    "\n",
    "    if is_imshow:\n",
    "        plt.figure(figsize=(10,10))\n",
    "        plt.imshow(nonzero_neighbours_num)\n",
    "        plt.colorbar()\n",
    "        plt.show()\n",
    "        plt.figure(figsize=(10,10))\n",
    "        plt.imshow(neighbours_sum)\n",
    "        plt.colorbar()\n",
    "        plt.show()\n",
    "        plt.figure(figsize=(10,10))\n",
    "        plt.imshow(nonzero_neighbours_avg)\n",
    "        plt.colorbar()\n",
    "        plt.show()\n",
    "    \n",
    "    # ~~~~~~~~~~~~~~~~~~~~~~~~~~~~~~~~~~~~~~~~~~~~~~~~~~~~~~~~~~~~~~~~~~~~~\n",
    "    inpaint_mask = (nonveg_z == 0.) * (nonzero_neighbours_num != 0)\n",
    "\n",
    "    nonveg_z[inpaint_mask] = nonzero_neighbours_avg[inpaint_mask]\n",
    "        \n",
    "    if is_imshow:\n",
    "        plt.figure(figsize=(10,10))\n",
    "        plt.imshow(nonveg_z)\n",
    "        plt.colorbar()\n",
    "        plt.show()\n",
    "        \n",
    "filter_speckles_in_ground_mask(nonveg_z, is_imshow=True)"
   ]
  },
  {
   "cell_type": "code",
   "execution_count": null,
   "id": "8dfef023",
   "metadata": {},
   "outputs": [],
   "source": [
    "def upsample_ground_mask(nonveg_z, is_imshow=False):\n",
    "    points_per_km = 3000\n",
    "\n",
    "    nonveg_z_upsampled = cv2.resize(\n",
    "        nonveg_z, \n",
    "        (points_per_km, points_per_km),\n",
    "        cv2.INTER_LINEAR\n",
    "    )\n",
    "    \n",
    "    if is_imshow:\n",
    "        plt.figure(figsize=(10,10))\n",
    "        plt.imshow(nonveg_z_upsampled)\n",
    "        plt.colorbar()\n",
    "        plt.show()\n",
    "        \n",
    "    return nonveg_z_upsampled\n",
    "        \n",
    "nonveg_z_upsampled = upsample_ground_mask(nonveg_z, is_imshow=True)"
   ]
  },
  {
   "cell_type": "code",
   "execution_count": null,
   "id": "c25f7e7d",
   "metadata": {},
   "outputs": [],
   "source": []
  },
  {
   "cell_type": "markdown",
   "id": "2b789f27",
   "metadata": {},
   "source": [
    "## Vegetation mask"
   ]
  },
  {
   "cell_type": "code",
   "execution_count": null,
   "id": "2e1872a9",
   "metadata": {},
   "outputs": [],
   "source": [
    "def get_vegetation_mask(ds, is_imshow=False):\n",
    "    points_per_km = 3000\n",
    "    points_per_m = points_per_km / 1000\n",
    "\n",
    "    veg = ds[ds['class'] == 3]\n",
    "    x = np.array(\n",
    "        (veg['x'] * points_per_m).astype(np.int)\n",
    "    )\n",
    "    y = np.array(\n",
    "        (veg['y'] * points_per_m).astype(np.int)\n",
    "    )\n",
    "    z = np.array(veg['z'])\n",
    "\n",
    "    veg_z_max = np.zeros((points_per_km,points_per_km))\n",
    "\n",
    "    for i in tqdm(range(len(z))):\n",
    "        xx = x[i]\n",
    "        yy = y[i]\n",
    "        zz = z[i]\n",
    "\n",
    "        if zz > veg_z_max[yy,xx]:\n",
    "            veg_z_max[yy,xx] = zz\n",
    "            \n",
    "    if is_imshow:\n",
    "        plt.figure(figsize=(20,10))\n",
    "        plt.imshow(veg_z_max)\n",
    "        plt.colorbar()\n",
    "        plt.show()\n",
    "            \n",
    "    return veg_z_max\n",
    "\n",
    "veg_z_max = get_vegetation_mask(ds, is_imshow=True)"
   ]
  },
  {
   "cell_type": "markdown",
   "id": "7bc21538",
   "metadata": {},
   "source": [
    "## Get vegetation heights relative to ground"
   ]
  },
  {
   "cell_type": "code",
   "execution_count": null,
   "id": "a8d4698b",
   "metadata": {},
   "outputs": [],
   "source": [
    "def get_veg_heights_25cm(nonveg_z_upsampled, veg_z_max, is_imshow=False):\n",
    "    points_per_km = 3000\n",
    "    \n",
    "    m = (nonveg_z_upsampled != 0.) * (veg_z_max != 0.)\n",
    "\n",
    "    veg_heights_m = np.zeros((points_per_km,points_per_km))\n",
    "\n",
    "    veg_heights_m[m] = veg_z_max[m] - nonveg_z_upsampled[m]\n",
    "\n",
    "    if is_imshow:\n",
    "        plt.figure(figsize=(20,10))\n",
    "        plt.imshow(veg_z_max, cmap='coolwarm')\n",
    "        plt.colorbar()\n",
    "        plt.show()\n",
    "    \n",
    "    # ~~~~~~~~~~~~~~~~~~~~~~~~~~~~~~~~~~~~~~~~~~~~~~~\n",
    "    print('max height:', np.max(veg_heights_m))\n",
    "    print('min height:', np.min(veg_heights_m))\n",
    "\n",
    "    print('points below zero:', np.sum(veg_heights_m < 0))\n",
    "    \n",
    "    # ~~~~~~~~~~~~~~~~~~~~~~~~~~~~~~~~~~~~~~~~~~~~~~~\n",
    "    veg_heights_m[veg_heights_m < 0] = 0\n",
    "\n",
    "    veg_heights_25cm = (veg_heights_m * 4).astype(np.uint8)\n",
    "\n",
    "    if is_imshow:\n",
    "        plt.figure(figsize=(20,10))\n",
    "        plt.imshow(veg_heights_25cm)\n",
    "        plt.colorbar()\n",
    "        plt.show()\n",
    "        \n",
    "    return veg_heights_25cm\n",
    "        \n",
    "veg_heights_25cm = get_veg_heights_25cm(nonveg_z_upsampled, veg_z_max, is_imshow=True)"
   ]
  },
  {
   "cell_type": "code",
   "execution_count": null,
   "id": "47dea43d",
   "metadata": {},
   "outputs": [],
   "source": []
  },
  {
   "cell_type": "code",
   "execution_count": null,
   "id": "e7d63232",
   "metadata": {},
   "outputs": [],
   "source": []
  },
  {
   "cell_type": "markdown",
   "id": "ee07f5e2",
   "metadata": {},
   "source": [
    "# Process lidar dataset"
   ]
  },
  {
   "cell_type": "code",
   "execution_count": null,
   "id": "28df1b57",
   "metadata": {},
   "outputs": [],
   "source": [
    "def process_one_lidar_file(input_path, output_path, is_imshow=False):\n",
    "    \n",
    "    with laspy.open(input_path) as inf:\n",
    "        for points in inf.chunk_iterator(10**10):        \n",
    "            x = points.x.copy()\n",
    "            y = points.y.copy()\n",
    "            z = points.z.copy()\n",
    "            c = points.classification.copy()\n",
    "            \n",
    "    arr = np.stack([x,y,z,c], axis=1)\n",
    "    ds = pd.DataFrame(arr, columns=['x','y','z','class'])\n",
    "    \n",
    "    print('Loaded dataset with %d points' % len(ds))\n",
    "    \n",
    "    # ~~~~~~~~~~~~~~~~~~~~~~~~~~~~~~~~~~~~~~~~~~~~~~~~~~~~~~~~~~\n",
    "    ds['x'] -= np.min(ds['x'])\n",
    "    ds['y'] -= np.min(ds['y'])\n",
    "    ds['z'] -= np.min(ds['z'])\n",
    "    \n",
    "    # ~~~~~~~~~~~~~~~~~~~~~~~~~~~~~~~~~~~~~~~~~~~~~~~~~~~~~~~~~~\n",
    "    print('Generating not_veg height map')\n",
    "    nonveg_z = get_ground_mask(ds, is_imshow=is_imshow)\n",
    "        \n",
    "    # ~~~~~~~~~~~\n",
    "    print('Improving not_veg height map')\n",
    "    filter_speckles_in_ground_mask(nonveg_z, is_imshow=is_imshow)\n",
    "    \n",
    "    nonveg_z_upsampled = upsample_ground_mask(nonveg_z, is_imshow=is_imshow)\n",
    "        \n",
    "    # ~~~~~~~~~~~\n",
    "    print('Generating veg height map')\n",
    "    veg_z_max = get_vegetation_mask(ds, is_imshow=is_imshow)\n",
    "    \n",
    "    # ~~~~~~~~~~~\n",
    "    print('Generating height map of vegetation relative to the ground')\n",
    "    veg_heights_25cm = get_veg_heights_25cm(nonveg_z_upsampled, veg_z_max, is_imshow=is_imshow)\n",
    "        \n",
    "    cv2.imwrite(output_path, veg_heights_25cm)"
   ]
  },
  {
   "cell_type": "code",
   "execution_count": null,
   "id": "e675d59c",
   "metadata": {},
   "outputs": [],
   "source": []
  },
  {
   "cell_type": "code",
   "execution_count": null,
   "id": "0187b947",
   "metadata": {},
   "outputs": [],
   "source": [
    "output_dir = f'{base_dir}/processed/lidar'\n",
    "\n",
    "if not os.path.exists(output_dir):\n",
    "    os.makedirs(output_dir)"
   ]
  },
  {
   "cell_type": "code",
   "execution_count": null,
   "id": "f93f2bf8",
   "metadata": {},
   "outputs": [],
   "source": [
    "for idx, name in enumerate(lidar_file_names):\n",
    "    print(f'~~~~~~~~{idx}, Processing file {name}~~~~~~~~')\n",
    "    \n",
    "    input_path = os.path.join(lidar_dir, name)\n",
    "    \n",
    "    name_png = name[:-4] + '.png'\n",
    "    output_path = os.path.join(output_dir, name_png)\n",
    "\n",
    "    process_one_lidar_file(input_path, output_path, is_imshow=False)\n",
    "    \n",
    "#     break"
   ]
  },
  {
   "cell_type": "code",
   "execution_count": null,
   "id": "079e14aa",
   "metadata": {},
   "outputs": [],
   "source": []
  },
  {
   "cell_type": "markdown",
   "id": "dee6e779",
   "metadata": {},
   "source": [
    "# Process images dataset"
   ]
  },
  {
   "cell_type": "code",
   "execution_count": null,
   "id": "0f6df23b",
   "metadata": {},
   "outputs": [],
   "source": [
    "def process_one_image_file(input_path, is_imshow=False):\n",
    "    img = cv2.imread(input_path)\n",
    "    img = cv2.flip(img, 0)\n",
    "    \n",
    "    points_per_km = 3000\n",
    "    \n",
    "    img_downscaled = cv2.resize(\n",
    "        img,\n",
    "        (points_per_km, points_per_km),\n",
    "        cv2.INTER_AREA\n",
    "    )\n",
    "    \n",
    "    if is_imshow:\n",
    "        plt.figure(figsize=(20,10))\n",
    "        plt.imshow(img_downscaled)\n",
    "        plt.show()\n",
    "        \n",
    "    return img_downscaled\n",
    "        \n",
    "img_downscaled = process_one_image_file(\n",
    "    input_path=f'{image_dir}/{image_file_names[-1]}',\n",
    "    is_imshow=True\n",
    ")"
   ]
  },
  {
   "cell_type": "code",
   "execution_count": null,
   "id": "0cf28ba6",
   "metadata": {},
   "outputs": [],
   "source": []
  },
  {
   "cell_type": "code",
   "execution_count": null,
   "id": "de69f71a",
   "metadata": {},
   "outputs": [],
   "source": [
    "output_dir = f'{base_dir}/processed/image'\n",
    "\n",
    "if not os.path.exists(output_dir):\n",
    "    os.makedirs(output_dir)"
   ]
  },
  {
   "cell_type": "code",
   "execution_count": null,
   "id": "e34aee39",
   "metadata": {},
   "outputs": [],
   "source": [
    "for idx, name in enumerate(image_file_names):\n",
    "    print(f'~~~~~~~~{idx}, Processing file {name}~~~~~~~~')\n",
    "    \n",
    "    input_path = os.path.join(image_dir, name)\n",
    "    \n",
    "    name_png = name.split('_')[2].replace('-', '_') + '.png'\n",
    "    output_path = os.path.join(output_dir, name_png)\n",
    "    \n",
    "    print(output_path)\n",
    "\n",
    "    img_downscaled = process_one_image_file(input_path, is_imshow=False)\n",
    "    \n",
    "    cv2.imwrite(output_path, img_downscaled)\n",
    "    \n",
    "#     break"
   ]
  },
  {
   "cell_type": "code",
   "execution_count": null,
   "id": "858615c1",
   "metadata": {},
   "outputs": [],
   "source": []
  },
  {
   "cell_type": "markdown",
   "id": "cca429c7",
   "metadata": {},
   "source": [
    "# Validation"
   ]
  },
  {
   "cell_type": "code",
   "execution_count": null,
   "id": "b0adc220",
   "metadata": {},
   "outputs": [],
   "source": [
    "output_dir = f'{base_dir}/processed/validation'\n",
    "\n",
    "if not os.path.exists(output_dir):\n",
    "    os.makedirs(output_dir)"
   ]
  },
  {
   "cell_type": "code",
   "execution_count": null,
   "id": "1ce049b3",
   "metadata": {},
   "outputs": [],
   "source": [
    "proc_lidar_file_names = os.listdir(f'{base_dir}/processed/lidar')\n",
    "\n",
    "for idx, name in enumerate(proc_lidar_file_names):\n",
    "    print(f'~~~~~~~~{idx}, Processing file {name}~~~~~~~~')\n",
    "    \n",
    "    lidar_path = f'{base_dir}/processed/lidar/{name}'\n",
    "    image_path = f'{base_dir}/processed/image/{name}'\n",
    "    valid_path = f'{base_dir}/processed/validation/{name}'\n",
    "    \n",
    "    lidar = cv2.imread(lidar_path, 0)\n",
    "    img = cv2.imread(image_path)\n",
    "    \n",
    "    img_gray = cv2.cvtColor(img, cv2.COLOR_RGB2GRAY)\n",
    "\n",
    "    combo = np.zeros_like(img)\n",
    "\n",
    "    combo[...,0] = img_gray\n",
    "    combo[...,2] = lidar\n",
    "    \n",
    "    valid = np.hstack([combo, img])\n",
    "    \n",
    "    cv2.imwrite(valid_path, valid)"
   ]
  },
  {
   "cell_type": "code",
   "execution_count": null,
   "id": "1612abce",
   "metadata": {},
   "outputs": [],
   "source": []
  },
  {
   "cell_type": "code",
   "execution_count": null,
   "id": "55578662",
   "metadata": {},
   "outputs": [],
   "source": []
  },
  {
   "cell_type": "code",
   "execution_count": null,
   "id": "4d772270",
   "metadata": {},
   "outputs": [],
   "source": []
  }
 ],
 "metadata": {
  "kernelspec": {
   "display_name": "Python [conda env:opencv_pip]",
   "language": "python",
   "name": "conda-env-opencv_pip-py"
  },
  "language_info": {
   "codemirror_mode": {
    "name": "ipython",
    "version": 3
   },
   "file_extension": ".py",
   "mimetype": "text/x-python",
   "name": "python",
   "nbconvert_exporter": "python",
   "pygments_lexer": "ipython3",
   "version": "3.7.11"
  }
 },
 "nbformat": 4,
 "nbformat_minor": 5
}
